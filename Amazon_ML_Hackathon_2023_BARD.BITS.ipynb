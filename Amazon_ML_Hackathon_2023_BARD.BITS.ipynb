{
 "cells": [
  {
   "cell_type": "code",
   "execution_count": 1,
   "id": "0b371a78",
   "metadata": {},
   "outputs": [],
   "source": [
    "import numpy as np\n",
    "import pandas as pd\n",
    "import re\n",
    "\n",
    "from sklearn.preprocessing import LabelEncoder\n",
    "from sklearn.model_selection import train_test_split\n",
    "from sklearn.linear_model import Ridge\n",
    "from sklearn.pipeline import FeatureUnion\n",
    "from sklearn.feature_extraction.text import CountVectorizer, TfidfVectorizer\n"
   ]
  },
  {
   "cell_type": "code",
   "execution_count": 2,
   "id": "1dfdac72",
   "metadata": {},
   "outputs": [
    {
     "name": "stdout",
     "output_type": "stream",
     "text": [
      "(2249698, 6) (734736, 5)\n",
      "Wall time: 1min 4s\n"
     ]
    }
   ],
   "source": [
    "%%time\n",
    "\n",
    "train_df = pd.read_csv('train.csv') #read train dataset\n",
    "test_df = pd.read_csv('test.csv') # read test dataset\n",
    "print(train_df.shape, test_df.shape)"
   ]
  },
  {
   "cell_type": "code",
   "execution_count": 3,
   "id": "bf0164c0",
   "metadata": {},
   "outputs": [
    {
     "data": {
      "text/plain": [
       "<AxesSubplot:>"
      ]
     },
     "execution_count": 3,
     "metadata": {},
     "output_type": "execute_result"
    },
    {
     "data": {
      "image/png": "[encoded data removed]",
      "text/plain": [
       "<Figure size 432x288 with 1 Axes>"
      ]
     },
     "metadata": {
      "needs_background": "light"
     },
     "output_type": "display_data"
    }
   ],
   "source": [
    "import seaborn as sns\n",
    "sns.heatmap(train_df.isnull(),yticklabels=False,cbar=False,cmap='viridis')"
   ]
  },
  {
   "cell_type": "code",
   "execution_count": 42,
   "id": "20668263",
   "metadata": {
    "scrolled": false
   },
   "outputs": [
    {
     "data": {
      "image/png": "[encoded data removed]",
      "text/plain": [
       "<Figure size 432x288 with 1 Axes>"
      ]
     },
     "metadata": {
      "needs_background": "light"
     },
     "output_type": "display_data"
    }
   ],
   "source": [
    "import matplotlib.pyplot as plt\n",
    "import seaborn as sns\n",
    "plt.hist(train_df['target'],bins=20)\n",
    "plt.show()\n"
   ]
  },
  {
   "cell_type": "code",
   "execution_count": 8,
   "id": "ca9c7622",
   "metadata": {},
   "outputs": [
    {
     "data": {
      "text/plain": [
       "PRODUCT_ID          0.00\n",
       "TITLE               0.00\n",
       "BULLET_POINTS      37.22\n",
       "DESCRIPTION        51.45\n",
       "PRODUCT_TYPE_ID     0.00\n",
       "PRODUCT_LENGTH      0.00\n",
       "dtype: float64"
      ]
     },
     "execution_count": 8,
     "metadata": {},
     "output_type": "execute_result"
    }
   ],
   "source": [
    "round((train_df.isnull().sum())/train_df.shape[0]*100,2)"
   ]
  },
  {
   "cell_type": "code",
   "execution_count": 41,
   "id": "3253fc1f",
   "metadata": {
    "scrolled": true
   },
   "outputs": [
    {
     "data": {
      "image/png": "[encoded data removed]",
      "text/plain": [
       "<Figure size 432x288 with 1 Axes>"
      ]
     },
     "metadata": {
      "needs_background": "light"
     },
     "output_type": "display_data"
    }
   ],
   "source": [
    "plt.hist(train_df['PRODUCT_LENGTH'], bins=20)\n",
    "plt.show()"
   ]
  },
  {
   "cell_type": "code",
   "execution_count": 34,
   "id": "1b18d1b3",
   "metadata": {},
   "outputs": [
    {
     "data": {
      "text/plain": [
       "'[100% Pure And Natural Essential Oil Or Fragrance Oil, Each Bottle in 10ml of aromatherapy essential oils available.,This essential oil set could be used in professional environments like massage facilities, beauty salons and offices, or used to diffuse/humidify the air in the rooms.,For those who love DIY, these essential oils could be perfect for baths, body and hair care, homemade lotions, candles, candle wax, soy wax, soap base, perfumes, cleaning, art & craft projects, pine cones, incense sticks or cones, other unscented products and so much more!,We have this types of Aromas Essential Diffuser oil of Lavender Oil, Rose Oil, Tea Tree Oil, Rosemary Oil, Jasmine Oil, Rajnigandha Oil, Eucalyptus Oil, Lemongrass Oil, Orchid Oil & Sandalwood Oil,A perfect gift for everyday use.]'"
      ]
     },
     "execution_count": 34,
     "metadata": {},
     "output_type": "execute_result"
    }
   ],
   "source": [
    "train_df.BULLET_POINTS[9]"
   ]
  },
  {
   "cell_type": "code",
   "execution_count": 43,
   "id": "b533afa1",
   "metadata": {},
   "outputs": [
    {
     "data": {
      "text/plain": [
       "count    2.249698e+06\n",
       "mean     7.063885e+02\n",
       "std      3.536603e+02\n",
       "min      1.000000e+00\n",
       "25%      5.118110e+02\n",
       "50%      6.630000e+02\n",
       "75%      8.500000e+02\n",
       "max      1.889764e+03\n",
       "Name: PRODUCT_LENGTH, dtype: float64"
      ]
     },
     "execution_count": 43,
     "metadata": {},
     "output_type": "execute_result"
    }
   ],
   "source": [
    "train_df[\"PRODUCT_LENGTH\"].describe()"
   ]
  },
  {
   "cell_type": "code",
   "execution_count": 22,
   "id": "dbde045e",
   "metadata": {},
   "outputs": [
    {
     "name": "stdout",
     "output_type": "stream",
     "text": [
      "Outliers from IQR method:  208533\n"
     ]
    }
   ],
   "source": [
    "#Eliminate all the outliers in the PRODUCT_LENGTH column using IQR method\n",
    "outliers = []\n",
    "def detect_outliers_iqr(data):\n",
    "    median = data['PRODUCT_LENGTH'].median()\n",
    "\n",
    "    q1 = np.percentile(data['PRODUCT_LENGTH'], 25)\n",
    "    q3 = np.percentile(data['PRODUCT_LENGTH'], 75)\n",
    "    IQR = q3-q1\n",
    "    lwr_bound = q1-(1.5*IQR)\n",
    "    upr_bound = q3+(1.5*IQR)\n",
    "    count =0\n",
    "    for i in range(len(data['PRODUCT_LENGTH'])): \n",
    "        if (data.iat[i,-1]<lwr_bound or data.iat[i,-1]>upr_bound):\n",
    "            data.iat[i,-1] = median\n",
    "            count = count +1 \n",
    "    return count\n",
    "count = detect_outliers_iqr(train_df)\n",
    "print(\"Outliers from IQR method: \", count)\n"
   ]
  },
  {
   "cell_type": "code",
   "execution_count": 44,
   "id": "0554b8cb",
   "metadata": {},
   "outputs": [],
   "source": [
    "# Handle missing data.\n",
    "def fill_missing_values(df):\n",
    "    df.TITLE.fillna(value=\"Missing\", inplace=True)\n",
    "    df.BULLET_POINTS.fillna(value=\"Missing\", inplace=True)\n",
    "    df.DESCRIPTION.fillna(value=\"Missing\", inplace=True)\n",
    "    return df\n",
    "\n",
    "train_df = fill_missing_values(train_df)\n",
    "test_df = fill_missing_values(test_df)"
   ]
  },
  {
   "cell_type": "code",
   "execution_count": 45,
   "id": "3620c1c8",
   "metadata": {},
   "outputs": [
    {
     "data": {
      "text/plain": [
       "'!\"#$%&\\'()*+,-./:;<=>?@[\\\\]^_`{|}~'"
      ]
     },
     "execution_count": 45,
     "metadata": {},
     "output_type": "execute_result"
    }
   ],
   "source": [
    "from string import punctuation\n",
    "punctuation"
   ]
  },
  {
   "cell_type": "code",
   "execution_count": 46,
   "id": "ce184198",
   "metadata": {},
   "outputs": [
    {
     "data": {
      "text/plain": [
       "[('!', ''),\n",
       " ('\"', ''),\n",
       " ('#', ''),\n",
       " ('$', ''),\n",
       " ('%', ''),\n",
       " ('&', ''),\n",
       " (\"'\", ''),\n",
       " ('(', ''),\n",
       " (')', ''),\n",
       " ('*', ''),\n",
       " ('+', ''),\n",
       " (',', ''),\n",
       " ('-', ''),\n",
       " ('.', ''),\n",
       " ('/', ''),\n",
       " (':', ''),\n",
       " (';', ''),\n",
       " ('<', ''),\n",
       " ('=', ''),\n",
       " ('>', ''),\n",
       " ('?', ''),\n",
       " ('@', ''),\n",
       " ('[', ''),\n",
       " ('\\\\', ''),\n",
       " (']', ''),\n",
       " ('^', ''),\n",
       " ('_', ''),\n",
       " ('`', ''),\n",
       " ('{', ''),\n",
       " ('|', ''),\n",
       " ('}', ''),\n",
       " ('~', '')]"
      ]
     },
     "execution_count": 46,
     "metadata": {},
     "output_type": "execute_result"
    }
   ],
   "source": [
    "punctuation_symbols = []\n",
    "for symbol in punctuation:\n",
    "    punctuation_symbols.append((symbol, ''))\n",
    "    \n",
    "punctuation_symbols"
   ]
  },
  {
   "cell_type": "code",
   "execution_count": 47,
   "id": "05120e1e",
   "metadata": {},
   "outputs": [
    {
     "name": "stderr",
     "output_type": "stream",
     "text": [
      "[nltk_data] Downloading package stopwords to\n",
      "[nltk_data]     C:\\Users\\ajain\\AppData\\Roaming\\nltk_data...\n",
      "[nltk_data]   Package stopwords is already up-to-date!\n"
     ]
    },
    {
     "data": {
      "text/plain": [
       "True"
      ]
     },
     "execution_count": 47,
     "metadata": {},
     "output_type": "execute_result"
    }
   ],
   "source": [
    "import nltk\n",
    "nltk.download('stopwords')"
   ]
  },
  {
   "cell_type": "code",
   "execution_count": 48,
   "id": "7c7931b6",
   "metadata": {},
   "outputs": [
    {
     "data": {
      "text/plain": [
       "['i',\n",
       " 'me',\n",
       " 'my',\n",
       " 'myself',\n",
       " 'we',\n",
       " 'our',\n",
       " 'ours',\n",
       " 'ourselves',\n",
       " 'you',\n",
       " \"you're\",\n",
       " \"you've\",\n",
       " \"you'll\",\n",
       " \"you'd\",\n",
       " 'your',\n",
       " 'yours',\n",
       " 'yourself',\n",
       " 'yourselves',\n",
       " 'he',\n",
       " 'him',\n",
       " 'his',\n",
       " 'himself',\n",
       " 'she',\n",
       " \"she's\",\n",
       " 'her',\n",
       " 'hers',\n",
       " 'herself',\n",
       " 'it',\n",
       " \"it's\",\n",
       " 'its',\n",
       " 'itself',\n",
       " 'they',\n",
       " 'them',\n",
       " 'their',\n",
       " 'theirs',\n",
       " 'themselves',\n",
       " 'what',\n",
       " 'which',\n",
       " 'who',\n",
       " 'whom',\n",
       " 'this',\n",
       " 'that',\n",
       " \"that'll\",\n",
       " 'these',\n",
       " 'those',\n",
       " 'am',\n",
       " 'is',\n",
       " 'are',\n",
       " 'was',\n",
       " 'were',\n",
       " 'be',\n",
       " 'been',\n",
       " 'being',\n",
       " 'have',\n",
       " 'has',\n",
       " 'had',\n",
       " 'having',\n",
       " 'do',\n",
       " 'does',\n",
       " 'did',\n",
       " 'doing',\n",
       " 'a',\n",
       " 'an',\n",
       " 'the',\n",
       " 'and',\n",
       " 'but',\n",
       " 'if',\n",
       " 'or',\n",
       " 'because',\n",
       " 'as',\n",
       " 'until',\n",
       " 'while',\n",
       " 'of',\n",
       " 'at',\n",
       " 'by',\n",
       " 'for',\n",
       " 'with',\n",
       " 'about',\n",
       " 'against',\n",
       " 'between',\n",
       " 'into',\n",
       " 'through',\n",
       " 'during',\n",
       " 'before',\n",
       " 'after',\n",
       " 'above',\n",
       " 'below',\n",
       " 'to',\n",
       " 'from',\n",
       " 'up',\n",
       " 'down',\n",
       " 'in',\n",
       " 'out',\n",
       " 'on',\n",
       " 'off',\n",
       " 'over',\n",
       " 'under',\n",
       " 'again',\n",
       " 'further',\n",
       " 'then',\n",
       " 'once',\n",
       " 'here',\n",
       " 'there',\n",
       " 'when',\n",
       " 'where',\n",
       " 'why',\n",
       " 'how',\n",
       " 'all',\n",
       " 'any',\n",
       " 'both',\n",
       " 'each',\n",
       " 'few',\n",
       " 'more',\n",
       " 'most',\n",
       " 'other',\n",
       " 'some',\n",
       " 'such',\n",
       " 'no',\n",
       " 'nor',\n",
       " 'not',\n",
       " 'only',\n",
       " 'own',\n",
       " 'same',\n",
       " 'so',\n",
       " 'than',\n",
       " 'too',\n",
       " 'very',\n",
       " 's',\n",
       " 't',\n",
       " 'can',\n",
       " 'will',\n",
       " 'just',\n",
       " 'don',\n",
       " \"don't\",\n",
       " 'should',\n",
       " \"should've\",\n",
       " 'now',\n",
       " 'd',\n",
       " 'll',\n",
       " 'm',\n",
       " 'o',\n",
       " 're',\n",
       " 've',\n",
       " 'y',\n",
       " 'ain',\n",
       " 'aren',\n",
       " \"aren't\",\n",
       " 'couldn',\n",
       " \"couldn't\",\n",
       " 'didn',\n",
       " \"didn't\",\n",
       " 'doesn',\n",
       " \"doesn't\",\n",
       " 'hadn',\n",
       " \"hadn't\",\n",
       " 'hasn',\n",
       " \"hasn't\",\n",
       " 'haven',\n",
       " \"haven't\",\n",
       " 'isn',\n",
       " \"isn't\",\n",
       " 'ma',\n",
       " 'mightn',\n",
       " \"mightn't\",\n",
       " 'mustn',\n",
       " \"mustn't\",\n",
       " 'needn',\n",
       " \"needn't\",\n",
       " 'shan',\n",
       " \"shan't\",\n",
       " 'shouldn',\n",
       " \"shouldn't\",\n",
       " 'wasn',\n",
       " \"wasn't\",\n",
       " 'weren',\n",
       " \"weren't\",\n",
       " 'won',\n",
       " \"won't\",\n",
       " 'wouldn',\n",
       " \"wouldn't\"]"
      ]
     },
     "execution_count": 48,
     "metadata": {},
     "output_type": "execute_result"
    }
   ],
   "source": [
    "from nltk.corpus import stopwords\n",
    "stop = stopwords.words('english')\n",
    "stop"
   ]
  },
  {
   "cell_type": "code",
   "execution_count": 49,
   "id": "583122c8",
   "metadata": {},
   "outputs": [],
   "source": [
    "import string\n",
    "\n",
    "# Create a function to remove punctuations\n",
    "def remove_punctuation(sentence: str) -> str:\n",
    "    return sentence.translate(str.maketrans('', '', string.punctuation))\n",
    "\n",
    "# Create a function to remove stop words\n",
    "def remove_stop_words(x):\n",
    "    x = ' '.join([i for i in x.lower().split(' ') if i not in stop])\n",
    "    return x\n",
    "\n",
    "# Create a function to lowercase the words\n",
    "def to_lower(x):\n",
    "    return x.lower()\n",
    "\n",
    "# Create a function to remove emojis\n",
    "def remove_emoji(string):\n",
    "    emoji_pattern = re.compile(\"[\"\n",
    "                           u\"\\U0001F600-\\U0001F64F\"  # emoticons\n",
    "                           u\"\\U0001F300-\\U0001F5FF\"  # symbols & pictographs\n",
    "                           u\"\\U0001F680-\\U0001F6FF\"  # transport & map symbols\n",
    "                           u\"\\U0001F1E0-\\U0001F1FF\"  # flags \n",
    "                           u\"\\U00002702-\\U000027B0\"\n",
    "                           u\"\\U000024C2-\\U0001F251\"\n",
    "                           \"]+\", flags=re.UNICODE)\n",
    "    return emoji_pattern.sub(r'', string)"
   ]
  },
  {
   "cell_type": "code",
   "execution_count": 50,
   "id": "37aa6742",
   "metadata": {},
   "outputs": [
    {
     "name": "stdout",
     "output_type": "stream",
     "text": [
      "Training on 2249698 examples\n"
     ]
    }
   ],
   "source": [
    "# Scale target variable to log.\n",
    "train_df = non_norm_train\n",
    "train_df['target'] = np.log1p(train_df['PRODUCT_LENGTH'])\n",
    "\n",
    "Y_train = train_df.target.values.reshape(-1,1)\n",
    "\n",
    "# Calculate number of train/dev/test examples.\n",
    "n_trains = train_df.shape[0]\n",
    "print(\"Training on\", n_trains, \"examples\")"
   ]
  },
  {
   "cell_type": "code",
   "execution_count": 51,
   "id": "47bec1de",
   "metadata": {},
   "outputs": [],
   "source": [
    "full_df = pd.concat([train_df, test_df]) #combine the train and test datasets"
   ]
  },
  {
   "cell_type": "code",
   "execution_count": null,
   "id": "61955c43",
   "metadata": {},
   "outputs": [],
   "source": [
    "%%time\n",
    "from nltk.stem.porter import PorterStemmer\n",
    "porter = PorterStemmer()\n",
    "full_df['DESCRIPTION'] = full_df['DESCRIPTION'].apply(porter.stem)\n",
    "full_df['DESCRIPTION'] = full_df['DESCRIPTION'].apply(remove_emoji)\n",
    "full_df['DESCRIPTION'] = full_df['DESCRIPTION'].apply(remove_punctuation)\n",
    "full_df['DESCRIPTION'] = full_df['DESCRIPTION'].apply(remove_stop_words)\n",
    "full_df['DESCRIPTION'] = full_df['DESCRIPTION'].apply(to_lower)\n",
    "\n",
    "full_df['TITLE'] = full_df['TITLE'].apply(remove_punctuation)\n",
    "full_df['TITLE'] = full_df['TITLE'].apply(remove_emoji)\n",
    "full_df['TITLE'] = full_df['TITLE'].apply(remove_stop_words)\n",
    "full_df['TITLE'] = full_df['TITLE'].apply(to_lower)\n",
    "\n",
    "full_df['BULLET_POINTS'] = full_df['BULLET_POINTS'].apply(porter.stem)\n",
    "full_df['BULLET_POINTS'] = full_df['BULLET_POINTS'].apply(remove_emoji)\n",
    "full_df['BULLET_POINTS'] = full_df['BULLET_POINTS'].apply(remove_punctuation)\n",
    "full_df['BULLET_POINTS'] = full_df['BULLET_POINTS'].apply(remove_stop_words)\n",
    "full_df['BULLET_POINTS'] = full_df['BULLET_POINTS'].apply(to_lower)"
   ]
  },
  {
   "cell_type": "code",
   "execution_count": null,
   "id": "f1b4c976",
   "metadata": {},
   "outputs": [],
   "source": [
    "full_df.drop('PRODUCT_ID', axis=1, inplace=True) #drop PRODUCT_ID column"
   ]
  },
  {
   "cell_type": "code",
   "execution_count": null,
   "id": "85e2a009",
   "metadata": {},
   "outputs": [],
   "source": [
    "%%time\n",
    "\n",
    "# Convert data type to string\n",
    "full_df['PRODUCT_TYPE_ID'] = full_df['PRODUCT_TYPE_ID'].astype(str)"
   ]
  },
  {
   "cell_type": "code",
   "execution_count": null,
   "id": "3a1eb094",
   "metadata": {},
   "outputs": [],
   "source": [
    "%%time\n",
    "#Vectorization of the data in the columns\n",
    "print(\"Vectorizing data...\")\n",
    "default_preprocessor = CountVectorizer().build_preprocessor()\n",
    "def build_preprocessor(field):\n",
    "    field_idx = list(full_df.columns).index(field)\n",
    "    return lambda x: default_preprocessor(x[field_idx])\n",
    "\n",
    "vectorizer = FeatureUnion([\n",
    "    ('TITLE', CountVectorizer(\n",
    "        ngram_range=(1, 1),\n",
    "        max_features=None,\n",
    "        preprocessor=build_preprocessor('TITLE'))),\n",
    "    ('PRODUCT_TYPE_ID', CountVectorizer(\n",
    "        token_pattern='\\d+',\n",
    "        preprocessor=build_preprocessor('PRODUCT_TYPE_ID'))),\n",
    "    ('DESCRIPTION', TfidfVectorizer(\n",
    "        ngram_range=(1, 1),\n",
    "        max_features=None,\n",
    "        preprocessor=build_preprocessor('DESCRIPTION'))),\n",
    "    ('BULLET_POINTS', TfidfVectorizer(\n",
    "        ngram_range=(1, 1),\n",
    "        max_features=None,\n",
    "        preprocessor=build_preprocessor('BULLET_POINTS'))),\n",
    "])\n",
    "\n",
    "X = vectorizer.fit_transform(full_df.values) #sparse matrix containing all the vectorized columns"
   ]
  },
  {
   "cell_type": "code",
   "execution_count": null,
   "id": "d9d88c9f",
   "metadata": {},
   "outputs": [],
   "source": [
    "# split the combined sparse matrix into train and test\n",
    "X_train = X[:n_trains] \n",
    "X_test = X[n_trains:]"
   ]
  },
  {
   "cell_type": "code",
   "execution_count": null,
   "id": "7ef9b0b8",
   "metadata": {},
   "outputs": [],
   "source": [
    "print(X.shape, X_train.shape, X_test.shape, Y_train.shape)"
   ]
  },
  {
   "cell_type": "code",
   "execution_count": null,
   "id": "d74914c9",
   "metadata": {},
   "outputs": [],
   "source": [
    "%%time\n",
    "#Train a Ridge Regression model on the obtained X_train and Y_train \n",
    "print(\"Fitting Ridge model on training examples...\")\n",
    "ridge_model = Ridge(\n",
    "    solver='auto', fit_intercept=True, alpha=15,\n",
    "    max_iter=60, normalize=False, tol=0.05,\n",
    ")\n",
    "ridge_model.fit(X_train, Y_train)"
   ]
  },
  {
   "cell_type": "code",
   "execution_count": null,
   "id": "fd24032a",
   "metadata": {},
   "outputs": [],
   "source": [
    "%%time\n",
    "\n",
    "ridge_preds = ridge_model.predict(X_test) #predict X_test using the trained Ridge model\n",
    "ridge_preds = np.expm1(ridge_preds) # perform anti-log"
   ]
  },
  {
   "cell_type": "code",
   "execution_count": null,
   "id": "04783266",
   "metadata": {},
   "outputs": [],
   "source": [
    "ridge_preds # is the final 2x2 array containing the PRODUCT_LENGTHs of the test dataset\n",
    "test_df['PRODUCT_LENGTH'] = ridge_preds\n",
    "test_df['PRODUCT_LENGTH'] = test_df['PRODUCT_LENGTH'].apply(pd.Series).astype(int) #convert the array into int\n",
    "test_df.drop(['TITLE', 'BULLET_POINTS', 'DESCRIPTION', 'PRODUCT_TYPE_ID'], axis=1, inplace=True) \n",
    "test_df.to_csv('final_predicted_lengths.csv')\n",
    "test_df"
   ]
  }
 ],
 "metadata": {
  "kernelspec": {
   "display_name": "Python 3 (ipykernel)",
   "language": "python",
   "name": "python3"
  },
  "language_info": {
   "codemirror_mode": {
    "name": "ipython",
    "version": 3
   },
   "file_extension": ".py",
   "mimetype": "text/x-python",
   "name": "python",
   "nbconvert_exporter": "python",
   "pygments_lexer": "ipython3",
   "version": "3.9.7"
  }
 },
 "nbformat": 4,
 "nbformat_minor": 5
}
